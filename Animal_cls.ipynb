{
  "cells": [
    {
      "cell_type": "code",
      "execution_count": 2,
      "metadata": {
        "id": "Rf-KCZBYJ4Kx"
      },
      "outputs": [
        {
          "name": "stdout",
          "output_type": "stream",
          "text": [
            "Using cuda device\n"
          ]
        }
      ],
      "source": [
        "import torch\n",
        "from torchvision import transforms\n",
        "NUM_CLASSES = 22\n",
        "LABELS = [\n",
        "    \"ape\", \"bear\", \"bison\", \"cat\",\n",
        "    \"chicken\", \"cow\", \"deer\", \"dog\",\n",
        "    \"dolphin\", \"duck\", \"eagle\", \"fish\",\n",
        "    \"horse\", \"lion\", \"lobster\", \"pig\",\n",
        "    \"rabbit\", \"shark\", \"snake\", \"spider\",\n",
        "    \"turkey\", \"wolf\"\n",
        "]\n",
        "LABEL_MAP = {\n",
        "    0: \"ape\", 1: \"bear\", 2: \"bison\", 3: \"cat\",\n",
        "    4: \"chicken\", 5: \"cow\", 6: \"deer\", 7: \"dog\",\n",
        "    8: \"dolphin\", 9: \"duck\", 10: \"eagle\", 11: \"fish\",\n",
        "    12: \"horse\", 13: \"lion\", 14: \"lobster\",\n",
        "    15: \"pig\", 16: \"rabbit\", 17: \"shark\", 18: \"snake\",\n",
        "    19: \"spider\", 20:  \"turkey\", 21: \"wolf\"\n",
        "}\n",
        "\n",
        "device = \"cuda\" if torch.cuda.is_available() else \"cpu\"\n",
        "print(f\"Using {device} device\")"
      ]
    },
    {
      "cell_type": "markdown",
      "metadata": {
        "id": "526fRcuSipvw"
      },
      "source": [
        "你还需要把训练集进行分割，分割出 Valid 集"
      ]
    },
    {
      "cell_type": "markdown",
      "metadata": {
        "id": "XgyE8fPkBOEV"
      },
      "source": [
        "由于本任务数据的特殊性，可以直接使用 ImageFolder ，而不需要单独设计 Dataset 类，因此先定义 transforms, 参阅 https://pytorch.org/tutorials/beginner/basics/transforms_tutorial.html 。"
      ]
    },
    {
      "cell_type": "code",
      "execution_count": 3,
      "metadata": {
        "id": "vQN4kO12BSWY"
      },
      "outputs": [],
      "source": [
        "import torch\n",
        "from torchvision import transforms\n",
        "\n",
        "transform_labeled = transforms.Compose(\n",
        "    [\n",
        "        transforms.Resize((64,64)),\n",
        "        transforms.ToTensor()\n",
        "    ]\n",
        ") #!TODO: rewrite this statement\n",
        "\n",
        "label2onehot = transforms.Lambda(lambda y: torch.zeros(\n",
        "    NUM_CLASSES, dtype=torch.float).scatter_(dim=0, index=torch.tensor(y), value=1))\n",
        "\n",
        "transform_val = None #!TODO: rewrite this statement"
      ]
    },
    {
      "cell_type": "code",
      "execution_count": 4,
      "metadata": {},
      "outputs": [],
      "source": [
        "import os\n",
        "from torchvision.datasets import VisionDataset\n",
        "from PIL import Image\n",
        "\n",
        "class TEST(VisionDataset):\n",
        "    def __init__(self,root, transform, target_transform):\n",
        "        self.img_dir = root\n",
        "        self.transform = transform\n",
        "        self.target_transform = target_transform\n",
        "        self.samples = os.listdir(self.img_dir)\n",
        "\n",
        "    def __len__(self):\n",
        "        \n",
        "        return len(self.samples)\n",
        "\n",
        "    def __getitem__(self, index):\n",
        "        img_path = os.path.normpath(os.path.join(self.img_dir, self.samples[index]))\n",
        "        with open(img_path, \"rb\") as f:\n",
        "            img = Image.open(f).convert(\"RGB\")\n",
        "        if self.transform:\n",
        "            img = self.transform(img)\n",
        "        return img"
      ]
    },
    {
      "cell_type": "markdown",
      "metadata": {
        "id": "usw-l1FFCPxE"
      },
      "source": [
        "将训练、测试集读入 DataLoader"
      ]
    },
    {
      "cell_type": "code",
      "execution_count": 10,
      "metadata": {
        "id": "9E9-_dhQCT6C"
      },
      "outputs": [],
      "source": [
        "import os\n",
        "\n",
        "from torchvision.datasets import ImageFolder, VisionDataset\n",
        "from torch.utils.data import DataLoader\n",
        "\n",
        "data_path = 'Animals/Animals_Dataset' #@param\n",
        "batch_size = 16 #@param\n",
        "num_workers = 0 #@param\n",
        "\n",
        "train_path = os.path.normpath((os.path.join(data_path, 'train')))\n",
        "test_path = os.path.normpath((os.path.join(data_path, 'test')))\n",
        "\n",
        "train_dataset = ImageFolder(\n",
        "    train_path,\n",
        "    transform_labeled,\n",
        "    target_transform = label2onehot\n",
        ")\n",
        "train_dataset, valid_dataset = torch.utils.data.random_split(train_dataset, lengths=[7, 3], generator=torch.Generator().manual_seed(0))\n",
        "test_dataset = TEST(\n",
        "    test_path,\n",
        "    transform = transform_labeled,\n",
        "    target_transform = label2onehot \n",
        ")\n",
        "\n",
        "train_loader = DataLoader(\n",
        "    train_dataset,\n",
        "    batch_size=batch_size,\n",
        "    num_workers=num_workers\n",
        ")\n",
        "valid_loader = DataLoader(\n",
        "    train_dataset,\n",
        "    batch_size=batch_size,\n",
        "    num_workers=num_workers\n",
        ")\n",
        "test_loader = DataLoader(\n",
        "    test_dataset,\n",
        "    batch_size=batch_size,\n",
        "    num_workers=num_workers) #!TODO: rewrite this statement"
      ]
    },
    {
      "cell_type": "markdown",
      "metadata": {
        "id": "P9_EKvIZHSQ2"
      },
      "source": [
        "## 建立模型"
      ]
    },
    {
      "cell_type": "markdown",
      "metadata": {
        "id": "P4iGVRdGHZ1j"
      },
      "source": [
        "本节介绍如何定义一个模型，参阅 https://pytorch.org/tutorials/beginner/basics/buildmodel_tutorial.html"
      ]
    },
    {
      "cell_type": "markdown",
      "metadata": {
        "id": "10arQtjzHhZM"
      },
      "source": [
        "先进行预处理"
      ]
    },
    {
      "cell_type": "code",
      "execution_count": 6,
      "metadata": {
        "colab": {
          "base_uri": "https://localhost:8080/"
        },
        "id": "Jr1uEM3AHRzw",
        "outputId": "1867526a-7d20-415c-e505-b6994c1da235"
      },
      "outputs": [
        {
          "name": "stdout",
          "output_type": "stream",
          "text": [
            "Using cuda device\n"
          ]
        }
      ],
      "source": [
        "import torch\n",
        "from torch import nn\n",
        "from torch.nn import functional as F\n",
        "\n",
        "device = \"cuda\" if torch.cuda.is_available() else \"cpu\"\n",
        "print(f\"Using {device} device\")"
      ]
    },
    {
      "cell_type": "markdown",
      "metadata": {
        "id": "tHdnIK2cHrei"
      },
      "source": [
        "定义模型类，注意到 PyTorch 是动态图，因此在数据进行前向传播时我们相当于已经定义了 Backpropagation 反向传播。"
      ]
    },
    {
      "cell_type": "code",
      "execution_count": 7,
      "metadata": {
        "id": "utWrSfapH-5D"
      },
      "outputs": [],
      "source": [
        "class BersonNetwork(nn.Module):\n",
        "  def __init__(self):\n",
        "    super(BersonNetwork, self).__init__()\n",
        "    self.flatten = nn.Flatten()\n",
        "    self.c1 = nn.Conv2d(3, 20, 5, 2, 0)\n",
        "    self.c2 = nn.Conv2d(20, 1, 5, 1, 0)\n",
        "    self.linear_relu_stack = nn.Sequential(\n",
        "        nn.Linear(676, 128), #!TODO: Change 0 to a proper value\n",
        "        #!Tips: You should calculate the number of neurons.\n",
        "        nn.ReLU(),\n",
        "        nn.Linear(128, 512),\n",
        "        nn.ReLU(),\n",
        "        nn.Linear(512, NUM_CLASSES),#!TODO: Change 0 to a proper value\n",
        "    )\n",
        "\n",
        "  def forward(self, x):\n",
        "    x = self.c1(x)\n",
        "    x = F.relu(x) #!Question: What's the difference between torch.nn.relu() and torch.nn.F.relu()\n",
        "    x = self.c2(x)\n",
        "    x = F.relu(x)\n",
        "    x = x.view(x.size(0), -1)\n",
        "    logits = self.linear_relu_stack(x)\n",
        "    return logits"
      ]
    },
    {
      "cell_type": "markdown",
      "metadata": {
        "id": "lJCdPaGBKDUR"
      },
      "source": [
        "这样模型就可以定义为："
      ]
    },
    {
      "cell_type": "code",
      "execution_count": 8,
      "metadata": {
        "colab": {
          "base_uri": "https://localhost:8080/"
        },
        "id": "PXBO6b7fKGdE",
        "outputId": "12dff8fc-f28a-4dd4-9a20-cd123300fe44"
      },
      "outputs": [],
      "source": [
        "model = BersonNetwork().to(device)\n",
        "# print(model)\n",
        "# model.train()"
      ]
    },
    {
      "cell_type": "code",
      "execution_count": 9,
      "metadata": {},
      "outputs": [
        {
          "data": {
            "text/plain": [
              "<bound method BersonNetwork.forward of BersonNetwork(\n",
              "  (flatten): Flatten(start_dim=1, end_dim=-1)\n",
              "  (c1): Conv2d(3, 20, kernel_size=(5, 5), stride=(2, 2))\n",
              "  (c2): Conv2d(20, 1, kernel_size=(5, 5), stride=(1, 1))\n",
              "  (linear_relu_stack): Sequential(\n",
              "    (0): Linear(in_features=676, out_features=128, bias=True)\n",
              "    (1): ReLU()\n",
              "    (2): Linear(in_features=128, out_features=512, bias=True)\n",
              "    (3): ReLU()\n",
              "    (4): Linear(in_features=512, out_features=22, bias=True)\n",
              "  )\n",
              ")>"
            ]
          },
          "execution_count": 9,
          "metadata": {},
          "output_type": "execute_result"
        }
      ],
      "source": [
        "model.forward"
      ]
    },
    {
      "cell_type": "markdown",
      "metadata": {
        "id": "L0TcWbDhLHA4"
      },
      "source": [
        "设置模型训练超参数、损失函数与优化器"
      ]
    },
    {
      "cell_type": "code",
      "execution_count": 8,
      "metadata": {
        "id": "T0kNniZ5LGas"
      },
      "outputs": [],
      "source": [
        "learning_rate = 1e-3 #@param\n",
        "batch_size = 64 #@param\n",
        "epochs = 5 #@param\n",
        "loss_fn = nn.CrossEntropyLoss()\n",
        "optimizer = torch.optim.Adam(model.parameters(), lr = learning_rate)"
      ]
    },
    {
      "cell_type": "markdown",
      "metadata": {
        "id": "FLO8Hv18NWbP"
      },
      "source": [
        "定义评价指标"
      ]
    },
    {
      "cell_type": "code",
      "execution_count": 9,
      "metadata": {
        "id": "Brywafn3NYcg"
      },
      "outputs": [],
      "source": [
        "class AverageMeter(object):\n",
        "  \"\"\"Computes and stores the average and current value\"\"\"\n",
        "  def __init__(self, name, fmt=':f'):\n",
        "      self.name = name\n",
        "      self.fmt = fmt\n",
        "      self.reset()\n",
        "\n",
        "  def reset(self):\n",
        "      self.val = 0\n",
        "      self.avg = 0\n",
        "      self.sum = 0\n",
        "      self.count = 0\n",
        "\n",
        "  def update(self, val, n=1):\n",
        "      self.val = val\n",
        "      self.sum += val * n\n",
        "      self.count += n\n",
        "      self.avg = self.sum / self.count\n",
        "\n",
        "  def __str__(self):\n",
        "      fmtstr = '{name} {avg' + self.fmt + '}'\n",
        "      return fmtstr.format(**self.__dict__)\n",
        "\n",
        "def accuracy(output:torch.Tensor, target, topk=(1,)):\n",
        "  \"\"\"Computes the accuracy over the k top predictions for the specified values of k\"\"\"\n",
        "  with torch.no_grad():\n",
        "    maxk = max(topk)\n",
        "    batch_size = target.size(0)\n",
        "\n",
        "    _, pred = output.topk(maxk, 1, True, True)\n",
        "    print(pred.shape, target.shape)\n",
        "    pred = pred.t()\n",
        "    print(target.view(1, -1).shape)\n",
        "    correct = pred.eq(target.view(1, -1).expand_as(pred))\n",
        "\n",
        "    res = []\n",
        "    for k in topk:\n",
        "        correct_k = correct[:k].reshape(-1).float().sum(0, keepdim=True)\n",
        "        res.append(correct_k.mul_(100.0 / batch_size))\n",
        "    return res\n",
        "\n",
        "batch_time = AverageMeter('Time', ':6.3f')\n",
        "data_time = AverageMeter('Data', ':6.3f')\n",
        "losses = AverageMeter('Loss', ':.4e')\n",
        "top1 = AverageMeter('Acc@1', ':6.2f')\n",
        "top5 = AverageMeter('Acc@5', ':6.2f')"
      ]
    },
    {
      "cell_type": "markdown",
      "metadata": {
        "id": "B3tO4464OyIv"
      },
      "source": [
        "训练"
      ]
    },
    {
      "cell_type": "code",
      "execution_count": 10,
      "metadata": {
        "colab": {
          "base_uri": "https://localhost:8080/",
          "height": 405
        },
        "id": "DIjFoll0K3ei",
        "outputId": "9466ad71-fa7f-4114-eb1d-a38bd6ac261b"
      },
      "outputs": [
        {
          "name": "stdout",
          "output_type": "stream",
          "text": [
            "Epoch:1: Time  5.069, Loss 3.1996e+00\n",
            "Epoch:2: Time  4.983, Loss 3.1518e+00\n",
            "Epoch:3: Time  4.956, Loss 3.1340e+00\n",
            "Epoch:4: Time  4.924, Loss 3.1250e+00\n",
            "Epoch:5: Time  4.914, Loss 3.1196e+00\n"
          ]
        }
      ],
      "source": [
        "import time\n",
        "\n",
        "start = time.time()\n",
        "for i in range(epochs):\n",
        "  for batch, (X, y) in enumerate(train_loader):\n",
        "    X = X.to(device)\n",
        "    y = y.to(device)\n",
        "    data_time.update(time.time() - start)\n",
        "    pred = model(X)\n",
        "    loss = loss_fn(pred, y)\n",
        "\n",
        "    optimizer.zero_grad()\n",
        "    loss.backward()\n",
        "    optimizer.step()\n",
        "    # acc1, acc5 = accuracy(pred, y, topk=(1, 5))\n",
        "    losses.update(loss.item(), X.size(0))\n",
        "    # top1.update(acc1[0], X.size(0))\n",
        "    # top5.update(acc5[0], X.size(0))\n",
        "\n",
        "  batch_time.update(time.time() - start)\n",
        "  start = time.time()\n",
        "\n",
        "  print(f\"Epoch:{i + 1}: {batch_time}, {losses}\")"
      ]
    },
    {
      "cell_type": "markdown",
      "metadata": {},
      "source": [
        "# 测试"
      ]
    },
    {
      "cell_type": "code",
      "execution_count": 11,
      "metadata": {},
      "outputs": [
        {
          "name": "stdout",
          "output_type": "stream",
          "text": [
            "cow\n"
          ]
        }
      ],
      "source": [
        "model.eval()\n",
        "with torch.no_grad():\n",
        "    path = os.path.normpath(os.path.join(test_path, '0.png'))\n",
        "    with open(path, \"rb\") as f:\n",
        "        image0 = Image.open(f).convert(\"RGB\")\n",
        "        image0.show()\n",
        "    image0 = transform_labeled(image0).to(device)\n",
        "    pred = model(image0)\n",
        "    label = LABEL_MAP[int(pred.argmax())]\n",
        "    print(label)"
      ]
    },
    {
      "cell_type": "markdown",
      "metadata": {
        "id": "RJwMp1nLhsKK"
      },
      "source": [
        "由于模型过于简单，因此训练准确率不高。你可以尝试训练其它的模型（甚至于预训练模型，但预训练模型如何进行训练也是一个值得讨论的问题）。\n",
        "同时，这里并没有使用 Valid 集来进行评价，而是使用了 train 集，你可以尝试加入 Valid 集（如提前分割，或用其他方式等）\n",
        "\n"
      ]
    },
    {
      "cell_type": "markdown",
      "metadata": {
        "id": "BHmxu_wOj1km"
      },
      "source": [
        "# 输出结果"
      ]
    },
    {
      "cell_type": "markdown",
      "metadata": {
        "id": "Ia4LbERPkAdo"
      },
      "source": [
        "输出结果非常简单，与训练类似，但模型不能更新参数"
      ]
    },
    {
      "cell_type": "code",
      "execution_count": 12,
      "metadata": {
        "id": "li4KigOFj0-K"
      },
      "outputs": [
        {
          "name": "stdout",
          "output_type": "stream",
          "text": [
            "[5 5 5 5 5 5 5 5 5 5 5 5 5 5 5 5 5 5 5 5 5 5 5 5 5 5 5 5 5 5 5 5 5 5 5 5 5\n",
            " 5 5 5 5 5 5 5 5 5 5 5 5 5 5 5 5 5 5 5 5 5 5 5 5 5 5 5 5 5 5 5 5 5 5 5 5 5\n",
            " 5 5 5 5 5 5 5 5 5 5 5 5 5 5 5 5 5 5 5 5 5 5 5 5 5 5 5 5 5 5 5 5 5 5 5 5]\n",
            "['cow', 'cow', 'cow', 'cow', 'cow', 'cow', 'cow', 'cow', 'cow', 'cow', 'cow', 'cow', 'cow', 'cow', 'cow', 'cow', 'cow', 'cow', 'cow', 'cow', 'cow', 'cow', 'cow', 'cow', 'cow', 'cow', 'cow', 'cow', 'cow', 'cow', 'cow', 'cow', 'cow', 'cow', 'cow', 'cow', 'cow', 'cow', 'cow', 'cow', 'cow', 'cow', 'cow', 'cow', 'cow', 'cow', 'cow', 'cow', 'cow', 'cow', 'cow', 'cow', 'cow', 'cow', 'cow', 'cow', 'cow', 'cow', 'cow', 'cow', 'cow', 'cow', 'cow', 'cow', 'cow', 'cow', 'cow', 'cow', 'cow', 'cow', 'cow', 'cow', 'cow', 'cow', 'cow', 'cow', 'cow', 'cow', 'cow', 'cow', 'cow', 'cow', 'cow', 'cow', 'cow', 'cow', 'cow', 'cow', 'cow', 'cow', 'cow', 'cow', 'cow', 'cow', 'cow', 'cow', 'cow', 'cow', 'cow', 'cow', 'cow', 'cow', 'cow', 'cow', 'cow', 'cow', 'cow', 'cow', 'cow', 'cow']\n"
          ]
        }
      ],
      "source": [
        "model.eval()\n",
        "labels = []\n",
        "with torch.no_grad():\n",
        "  for _, images in enumerate(test_loader):\n",
        "    y = model(images.to(device))\n",
        "    batch_labels = torch.argmax(y, dim=1)\n",
        "    labels.append(batch_labels)\n",
        "ans = torch.cat(labels, 0).cpu().numpy()\n",
        "print(ans)\n",
        "print([LABEL_MAP[i] for i in ans])"
      ]
    },
    {
      "cell_type": "markdown",
      "metadata": {
        "id": "gvwaWlrDlfFz"
      },
      "source": [
        "# 保存模型"
      ]
    },
    {
      "cell_type": "markdown",
      "metadata": {
        "id": "-D_R49EzlhBa"
      },
      "source": [
        "参阅 https://pytorch.org/tutorials/beginner/basics/saveloadrun_tutorial.html"
      ]
    },
    {
      "cell_type": "code",
      "execution_count": 39,
      "metadata": {
        "id": "eze0NIPxlo0R"
      },
      "outputs": [],
      "source": [
        "torch.save(model, 'model.path')"
      ]
    },
    {
      "cell_type": "code",
      "execution_count": null,
      "metadata": {
        "id": "ZH9zeHdUluHT"
      },
      "outputs": [],
      "source": [
        "model = torch.load('model.path')"
      ]
    }
  ],
  "metadata": {
    "accelerator": "GPU",
    "colab": {
      "gpuType": "T4",
      "provenance": []
    },
    "kernelspec": {
      "display_name": "Python 3",
      "name": "python3"
    },
    "language_info": {
      "codemirror_mode": {
        "name": "ipython",
        "version": 3
      },
      "file_extension": ".py",
      "mimetype": "text/x-python",
      "name": "python",
      "nbconvert_exporter": "python",
      "pygments_lexer": "ipython3",
      "version": "3.10.10"
    },
    "orig_nbformat": 4
  },
  "nbformat": 4,
  "nbformat_minor": 0
}
